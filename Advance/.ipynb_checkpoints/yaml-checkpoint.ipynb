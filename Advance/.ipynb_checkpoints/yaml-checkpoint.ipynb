{
 "cells": [
  {
   "cell_type": "code",
   "execution_count": 1,
   "metadata": {
    "collapsed": true
   },
   "outputs": [],
   "source": [
    "import yaml"
   ]
  },
  {
   "cell_type": "code",
   "execution_count": 2,
   "metadata": {},
   "outputs": [
    {
     "data": {
      "text/plain": [
       "'\\nweb_server:\\n  host = 127.0.0.1 #スペース2つ\\n  port = 80\\n\\ndb_server:\\n  host = 127.0.0.1\\n  port = 3306\\n'"
      ]
     },
     "execution_count": 2,
     "metadata": {},
     "output_type": "execute_result"
    }
   ],
   "source": [
    "# yaml認識する形式\n",
    "\"\"\"\n",
    "web_server:\n",
    "  host = 127.0.0.1 #スペース2つ\n",
    "  port = 80\n",
    "\n",
    "db_server:\n",
    "  host = 127.0.0.1\n",
    "  port = 3306\n",
    "\"\"\""
   ]
  },
  {
   "cell_type": "code",
   "execution_count": 8,
   "metadata": {},
   "outputs": [],
   "source": [
    "with open('config.yml', 'w') as yaml_file:\n",
    "    yaml.dump({\n",
    "        'web_server':{\n",
    "            'host': '127.0.0.1',\n",
    "            'port': 80\n",
    "        },\n",
    "        'db_server':{\n",
    "            'host': '127.0.0.1',\n",
    "            'port': 3306\n",
    "        }\n",
    "    }, yaml_file, default_flow_style=False) # default_flow_style=False: block型にする\n"
   ]
  },
  {
   "cell_type": "code",
   "execution_count": 9,
   "metadata": {},
   "outputs": [
    {
     "name": "stdout",
     "output_type": "stream",
     "text": [
      "{'db_server': {'host': '127.0.0.1', 'port': 3306}, 'web_server': {'host': '127.0.0.1', 'port': 80}} <class 'dict'>\n"
     ]
    }
   ],
   "source": [
    "with open('config.yml','r') as yaml_file:\n",
    "    data = yaml.load(yaml_file)\n",
    "    print(data, type(data))"
   ]
  },
  {
   "cell_type": "code",
   "execution_count": 11,
   "metadata": {},
   "outputs": [
    {
     "name": "stdout",
     "output_type": "stream",
     "text": [
      "{'host': '127.0.0.1', 'port': 80}\n",
      "127.0.0.1\n",
      "127.0.0.1\n",
      "3306\n"
     ]
    }
   ],
   "source": [
    "with open('config.yml','r') as yaml_file:\n",
    "    data = yaml.load(yaml_file)\n",
    "    print(data['web_server'])\n",
    "    print(data['web_server']['host'])\n",
    "    print(data['db_server']['host'])\n",
    "    print(data['db_server']['port'])\n",
    "    "
   ]
  },
  {
   "cell_type": "code",
   "execution_count": null,
   "metadata": {
    "collapsed": true
   },
   "outputs": [],
   "source": []
  }
 ],
 "metadata": {
  "kernelspec": {
   "display_name": "Python 3",
   "language": "python",
   "name": "python3"
  },
  "language_info": {
   "codemirror_mode": {
    "name": "ipython",
    "version": 3
   },
   "file_extension": ".py",
   "mimetype": "text/x-python",
   "name": "python",
   "nbconvert_exporter": "python",
   "pygments_lexer": "ipython3",
   "version": "3.6.3"
  }
 },
 "nbformat": 4,
 "nbformat_minor": 2
}
