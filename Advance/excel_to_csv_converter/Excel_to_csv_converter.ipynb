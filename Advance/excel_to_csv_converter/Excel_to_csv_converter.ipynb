{
 "cells": [
  {
   "cell_type": "code",
   "execution_count": 13,
   "metadata": {
    "collapsed": true
   },
   "outputs": [],
   "source": [
    "# -*- coding: utf-8 -*-\n",
    "import xlrd\n",
    "import csv\n",
    "from os import sys"
   ]
  },
  {
   "cell_type": "code",
   "execution_count": 14,
   "metadata": {},
   "outputs": [
    {
     "name": "stdout",
     "output_type": "stream",
     "text": [
      "<class 'xlrd.book.Book'>\n"
     ]
    }
   ],
   "source": [
    "excel_file = 'test.xlsx'\n",
    "workbook = xlrd.open_workbook(excel_file) \n",
    "print(type(workbook))"
   ]
  },
  {
   "cell_type": "code",
   "execution_count": 15,
   "metadata": {},
   "outputs": [
    {
     "name": "stdout",
     "output_type": "stream",
     "text": [
      "リスト１\n",
      "リスト2\n",
      "リスト3\n"
     ]
    }
   ],
   "source": [
    "all_worksheets = workbook.sheet_names()\n",
    "for worksheet_name in all_worksheets:\n",
    "    print(worksheet_name)"
   ]
  },
  {
   "cell_type": "code",
   "execution_count": 16,
   "metadata": {},
   "outputs": [
    {
     "name": "stdout",
     "output_type": "stream",
     "text": [
      "<xlrd.sheet.Sheet object at 0x000001BDB0DF39E8>\n",
      "<xlrd.sheet.Sheet object at 0x000001BDB0CD8668>\n",
      "<xlrd.sheet.Sheet object at 0x000001BDB0CD8390>\n"
     ]
    }
   ],
   "source": [
    "for worksheet_name in all_worksheets:\n",
    "    worksheet = workbook.sheet_by_name(worksheet_name)\n",
    "    print(worksheet)"
   ]
  },
  {
   "cell_type": "code",
   "execution_count": 17,
   "metadata": {},
   "outputs": [
    {
     "name": "stdout",
     "output_type": "stream",
     "text": [
      "11\n",
      "11\n",
      "11\n"
     ]
    }
   ],
   "source": [
    "for worksheet_name in all_worksheets:\n",
    "    worksheet = workbook.sheet_by_name(worksheet_name)\n",
    "    print(worksheet.nrows) "
   ]
  },
  {
   "cell_type": "code",
   "execution_count": 18,
   "metadata": {},
   "outputs": [
    {
     "name": "stdout",
     "output_type": "stream",
     "text": [
      "<_csv.writer object at 0x000001BDB0E187D8>\n",
      "<_csv.writer object at 0x000001BDB0E18FC0>\n",
      "<_csv.writer object at 0x000001BDB0E187D8>\n"
     ]
    }
   ],
   "source": [
    "for worksheet_name in all_worksheets:\n",
    "    worksheet = workbook.sheet_by_name(worksheet_name)\n",
    "    with open('{}.csv'.format(worksheet_name), 'wb') as csv_file:\n",
    "        wr = csv.writer(csv_file, quoting = csv.QUOTE_ALL)\n",
    "        print(wr)"
   ]
  },
  {
   "cell_type": "code",
   "execution_count": 20,
   "metadata": {},
   "outputs": [
    {
     "name": "stdout",
     "output_type": "stream",
     "text": [
      "No.\n",
      "漢字氏名\n",
      "ｶﾅｼﾒｲ\n",
      "生年月日\n",
      "住所\n",
      "電話番号\n",
      "1.0\n",
      "田中　太郎\n",
      "ﾀﾅｶ ﾀﾛｳ\n",
      "32144.0\n",
      "東京都大田区久が原1－1－1四教マンション\n",
      "080-1253-6953\n",
      "2.0\n",
      "田中　次郎\n",
      "ﾀﾅｶ ｼﾞﾛｳ\n",
      "32145.0\n",
      "東京都大田区久が原1－1－1四教マンション\n",
      "080-1253-6954\n",
      "3.0\n",
      "田中　太郎\n",
      "ﾀﾅｶ ﾀﾛｳ\n",
      "32146.0\n",
      "東京都大田区久が原1－1－1四教マンション\n",
      "080-1253-6955\n",
      "4.0\n",
      "田中　次郎\n",
      "ﾀﾅｶ ｼﾞﾛｳ\n",
      "32147.0\n",
      "東京都大田区久が原1－1－1四教マンション\n",
      "080-1253-6956\n",
      "5.0\n",
      "田中　太郎\n",
      "ﾀﾅｶ ﾀﾛｳ\n",
      "32148.0\n",
      "東京都大田区久が原1－1－1四教マンション\n",
      "080-1253-6957\n",
      "6.0\n",
      "田中　次郎\n",
      "ﾀﾅｶ ｼﾞﾛｳ\n",
      "32149.0\n",
      "東京都大田区久が原1－1－1四教マンション\n",
      "080-1253-6958\n",
      "7.0\n",
      "田中　太郎\n",
      "ﾀﾅｶ ﾀﾛｳ\n",
      "32150.0\n",
      "東京都大田区久が原1－1－1四教マンション\n",
      "080-1253-6959\n",
      "8.0\n",
      "田中　次郎\n",
      "ﾀﾅｶ ｼﾞﾛｳ\n",
      "32151.0\n",
      "東京都大田区久が原1－1－1四教マンション\n",
      "080-1253-6960\n",
      "9.0\n",
      "田中　太郎\n",
      "ﾀﾅｶ ﾀﾛｳ\n",
      "32152.0\n",
      "東京都大田区久が原1－1－1四教マンション\n",
      "080-1253-6961\n",
      "10.0\n",
      "田中　次郎\n",
      "ﾀﾅｶ ｼﾞﾛｳ\n",
      "32153.0\n",
      "東京都大田区久が原1－1－1四教マンション\n",
      "080-1253-6962\n",
      "No.\n",
      "漢字氏名\n",
      "ｶﾅｼﾒｲ\n",
      "生年月日\n",
      "住所\n",
      "電話番号\n",
      "1.0\n",
      "鈴木　太郎\n",
      "ｽｽﾞｷ ﾀﾛｳ\n",
      "32144.0\n",
      "東京都大田区久が原1－1－1四教マンション\n",
      "080-1253-6953\n",
      "2.0\n",
      "鈴木　次郎\n",
      "ｽｽﾞｷ ｼﾞﾛｳ\n",
      "32145.0\n",
      "東京都大田区久が原1－1－1四教マンション\n",
      "080-1253-6954\n",
      "3.0\n",
      "鈴木　太郎\n",
      "ｽｽﾞｷ ﾀﾛｳ\n",
      "32146.0\n",
      "東京都大田区久が原1－1－1四教マンション\n",
      "080-1253-6955\n",
      "4.0\n",
      "鈴木　次郎\n",
      "ｽｽﾞｷ ｼﾞﾛｳ\n",
      "32147.0\n",
      "東京都大田区久が原1－1－1四教マンション\n",
      "080-1253-6956\n",
      "5.0\n",
      "鈴木　太郎\n",
      "ｽｽﾞｷ ﾀﾛｳ\n",
      "32148.0\n",
      "東京都大田区久が原1－1－1四教マンション\n",
      "080-1253-6957\n",
      "6.0\n",
      "鈴木　次郎\n",
      "ｽｽﾞｷ ｼﾞﾛｳ\n",
      "32149.0\n",
      "東京都大田区久が原1－1－1四教マンション\n",
      "080-1253-6958\n",
      "7.0\n",
      "鈴木　太郎\n",
      "ｽｽﾞｷ ﾀﾛｳ\n",
      "32150.0\n",
      "東京都大田区久が原1－1－1四教マンション\n",
      "080-1253-6959\n",
      "8.0\n",
      "鈴木　次郎\n",
      "ｽｽﾞｷ ｼﾞﾛｳ\n",
      "32151.0\n",
      "東京都大田区久が原1－1－1四教マンション\n",
      "080-1253-6960\n",
      "9.0\n",
      "鈴木　太郎\n",
      "ｽｽﾞｷ ﾀﾛｳ\n",
      "32152.0\n",
      "東京都大田区久が原1－1－1四教マンション\n",
      "080-1253-6961\n",
      "10.0\n",
      "鈴木　次郎\n",
      "ｽｽﾞｷ ｼﾞﾛｳ\n",
      "32153.0\n",
      "東京都大田区久が原1－1－1四教マンション\n",
      "080-1253-6962\n",
      "No.\n",
      "漢字氏名\n",
      "ｶﾅｼﾒｲ\n",
      "生年月日\n",
      "住所\n",
      "電話番号\n",
      "1.0\n",
      "山田　太郎\n",
      "ﾔﾏﾀﾞ ﾀﾛｳ\n",
      "32144.0\n",
      "東京都大田区久が原1－1－1四教マンション\n",
      "080-1253-6953\n",
      "2.0\n",
      "山田　次郎\n",
      "ﾔﾏﾀﾞ ｼﾞﾛｳ\n",
      "32145.0\n",
      "東京都大田区久が原1－1－1四教マンション\n",
      "080-1253-6954\n",
      "3.0\n",
      "山田　太郎\n",
      "ﾔﾏﾀﾞ ﾀﾛｳ\n",
      "32146.0\n",
      "東京都大田区久が原1－1－1四教マンション\n",
      "080-1253-6955\n",
      "4.0\n",
      "山田　次郎\n",
      "ﾔﾏﾀﾞ ｼﾞﾛｳ\n",
      "32147.0\n",
      "東京都大田区久が原1－1－1四教マンション\n",
      "080-1253-6956\n",
      "5.0\n",
      "山田　太郎\n",
      "ﾔﾏﾀﾞ ﾀﾛｳ\n",
      "32148.0\n",
      "東京都大田区久が原1－1－1四教マンション\n",
      "080-1253-6957\n",
      "6.0\n",
      "山田　次郎\n",
      "ﾔﾏﾀﾞ ｼﾞﾛｳ\n",
      "32149.0\n",
      "東京都大田区久が原1－1－1四教マンション\n",
      "080-1253-6958\n",
      "7.0\n",
      "山田　太郎\n",
      "ﾔﾏﾀﾞ ﾀﾛｳ\n",
      "32150.0\n",
      "東京都大田区久が原1－1－1四教マンション\n",
      "080-1253-6959\n",
      "8.0\n",
      "山田　次郎\n",
      "ﾔﾏﾀﾞ ｼﾞﾛｳ\n",
      "32151.0\n",
      "東京都大田区久が原1－1－1四教マンション\n",
      "080-1253-6960\n",
      "9.0\n",
      "山田　太郎\n",
      "ﾔﾏﾀﾞ ﾀﾛｳ\n",
      "32152.0\n",
      "東京都大田区久が原1－1－1四教マンション\n",
      "080-1253-6961\n",
      "10.0\n",
      "山田　次郎\n",
      "ﾔﾏﾀﾞ ｼﾞﾛｳ\n",
      "32153.0\n",
      "東京都大田区久が原1－1－1四教マンション\n",
      "080-1253-6962\n"
     ]
    }
   ],
   "source": [
    "for worksheet_name in all_worksheets:\n",
    "    worksheet = workbook.sheet_by_name(worksheet_name)\n",
    "    with open('{}.csv'.format(worksheet_name), 'wb') as csv_file:\n",
    "        for row_num in range(worksheet.nrows):\n",
    "            for entry in worksheet.row_values(row_num):\n",
    "                print(entry)\n",
    "            # wr.writerow()"
   ]
  },
  {
   "cell_type": "code",
   "execution_count": 64,
   "metadata": {},
   "outputs": [],
   "source": [
    "for worksheet_name in all_worksheets:\n",
    "    worksheet = workbook.sheet_by_name(worksheet_name)\n",
    "    with open('{}.csv'.format(worksheet_name), 'w') as csv_file:\n",
    "        wr = csv.writer(csv_file, lineterminator = '\\n')\n",
    "        for i in range(worksheet.nrows):\n",
    "            wr.writerow(worksheet.row_values(i))     "
   ]
  },
  {
   "cell_type": "code",
   "execution_count": null,
   "metadata": {
    "collapsed": true
   },
   "outputs": [],
   "source": [
    "import xlrd\n",
    "from os import sys\n",
    "import csv \n",
    "\n",
    "def csv_from_excel(excel_file):\n",
    "    workbook = xlrd.open_workbook(excel_file) \n",
    "    all_worksheets = workbook.sheet_names()\n",
    "    for worksheet_name in all_worksheets:\n",
    "    worksheet = workbook.sheet_by_name(worksheet_name)\n",
    "    with open('{}.csv'.format(worksheet_name), 'w') as csv_file:\n",
    "        wr = csv.writer(csv_file, lineterminator = '\\n')\n",
    "        for i in range(worksheet.nrows):\n",
    "            wr.writerow(worksheet.row_values(i))  \n",
    "\n",
    "if __name__ == \"__main__\":\n",
    "    csv_from_excel(sys.argv[1])\n",
    "\n",
    "csv_from_excel(\"test.xlsx\")"
   ]
  },
  {
   "cell_type": "markdown",
   "metadata": {},
   "source": [
    "# A quicker way to do it with pandas:"
   ]
  },
  {
   "cell_type": "code",
   "execution_count": 72,
   "metadata": {
    "collapsed": true
   },
   "outputs": [],
   "source": [
    "import pandas as pd\n",
    "\n",
    "xls_file = pd.read_excel('test.xlsx', sheetname=\"リスト１\")\n",
    "xls_file.to_csv('MySpreadsheet.csv', index = False)\n",
    "#remove the index because pandas automatically indexes the first column of CSV files."
   ]
  },
  {
   "cell_type": "code",
   "execution_count": 71,
   "metadata": {
    "scrolled": true
   },
   "outputs": [
    {
     "data": {
      "text/plain": [
       "'\\nDataFrame.to_csv(path_or_buf=None, sep=\\', \\', na_rep=\\'\\', float_format=None, columns=None,\\nheader=True, index=True, index_label=None, mode=\\'w\\', encoding=None, compression=None, \\nquoting=None, quotechar=\\'\"\\', line_terminator=\\'\\n\\', chunksize=None, tupleize_cols=None, \\ndate_format=None, doublequote=True, escapechar=None, decimal=\\'.\\')[source]\\n'"
      ]
     },
     "execution_count": 71,
     "metadata": {},
     "output_type": "execute_result"
    }
   ],
   "source": [
    "import pandas as pd\n",
    "\n",
    "excel_file = 'test.xlsx'\n",
    "\n",
    "all_sheetnames = pd.ExcelFile(excel_file).sheet_names\n",
    "for sheetname in all_sheetnames:\n",
    "    xls_file = pd.read_excel(excel_file, sheetname=sheetname)\n",
    "    xls_file.to_csv('{}.csv'.format(sheetname), sep='\\t', index=False, quotechar='\"', )\n",
    "\n",
    "\"\"\"\n",
    "DataFrame.to_csv(path_or_buf=None, sep=', ', na_rep='', float_format=None, columns=None,\n",
    "header=True, index=True, index_label=None, mode='w', encoding=None, compression=None, \n",
    "quoting=None, quotechar='\"', line_terminator='\\n', chunksize=None, tupleize_cols=None, \n",
    "date_format=None, doublequote=True, escapechar=None, decimal='.')[source]\n",
    "\"\"\""
   ]
  },
  {
   "cell_type": "code",
   "execution_count": null,
   "metadata": {
    "collapsed": true
   },
   "outputs": [],
   "source": []
  }
 ],
 "metadata": {
  "kernelspec": {
   "display_name": "Python 3",
   "language": "python",
   "name": "python3"
  },
  "language_info": {
   "codemirror_mode": {
    "name": "ipython",
    "version": 3
   },
   "file_extension": ".py",
   "mimetype": "text/x-python",
   "name": "python",
   "nbconvert_exporter": "python",
   "pygments_lexer": "ipython3",
   "version": "3.6.4"
  }
 },
 "nbformat": 4,
 "nbformat_minor": 2
}
