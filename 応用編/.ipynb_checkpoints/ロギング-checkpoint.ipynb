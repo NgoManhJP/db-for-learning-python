{
 "cells": [
  {
   "cell_type": "code",
   "execution_count": 1,
   "metadata": {},
   "outputs": [
    {
     "data": {
      "text/plain": [
       "'\\nCRITICAL\\nERROR\\nWARNING\\nINFO\\nDEBUG\\n'"
      ]
     },
     "execution_count": 1,
     "metadata": {},
     "output_type": "execute_result"
    }
   ],
   "source": [
    "\"\"\"\n",
    "CRITICAL\n",
    "ERROR\n",
    "WARNING\n",
    "INFO\n",
    "DEBUG\n",
    "\"\"\""
   ]
  },
  {
   "cell_type": "code",
   "execution_count": 8,
   "metadata": {
    "collapsed": true
   },
   "outputs": [],
   "source": [
    "import logging"
   ]
  },
  {
   "cell_type": "code",
   "execution_count": 5,
   "metadata": {},
   "outputs": [
    {
     "name": "stderr",
     "output_type": "stream",
     "text": [
      "CRITICAL:root:critical\n",
      "ERROR:root:error\n",
      "CRITICAL:root:warning\n"
     ]
    }
   ],
   "source": [
    "logging.critical('critical') #異常事態が起きた\n",
    "logging.error('error')\n",
    "logging.critical('warning')\n",
    "logging.info('info')\n",
    "logging.debug('debug')\n",
    "#ログレベルがあり、warning以上のものしか表示しない"
   ]
  },
  {
   "cell_type": "code",
   "execution_count": 14,
   "metadata": {},
   "outputs": [
    {
     "name": "stderr",
     "output_type": "stream",
     "text": [
      "CRITICAL:root:critical\n",
      "ERROR:root:error\n",
      "WARNING:root:warning\n"
     ]
    }
   ],
   "source": [
    "#レベル設定もできる\n",
    "logging.basicConfig(level=logging.INFO)\n",
    "logging.critical('critical')\n",
    "logging.error('error')\n",
    "logging.warning('warning')\n",
    "logging.info('info')\n",
    "logging.debug('debug')"
   ]
  },
  {
   "cell_type": "code",
   "execution_count": null,
   "metadata": {
    "collapsed": true
   },
   "outputs": [],
   "source": []
  },
  {
   "cell_type": "code",
   "execution_count": 24,
   "metadata": {},
   "outputs": [
    {
     "name": "stderr",
     "output_type": "stream",
     "text": [
      "CRITICAL:root:critical\n",
      "ERROR:root:error\n",
      "WARNING:root:warning\n"
     ]
    }
   ],
   "source": [
    "import logging\n",
    "\n",
    "#レベル設定もできる\n",
    "logging.basicConfig(level=logging.DEBUG)\n",
    "\n",
    "logging.critical('critical') #\n",
    "logging.error('error')\n",
    "logging.warning('warning')\n",
    "logging.info('info')\n",
    "logging.debug('debug')"
   ]
  },
  {
   "cell_type": "code",
   "execution_count": null,
   "metadata": {
    "collapsed": true
   },
   "outputs": [],
   "source": [
    "#????? what's "
   ]
  },
  {
   "cell_type": "code",
   "execution_count": 33,
   "metadata": {},
   "outputs": [
    {
     "name": "stderr",
     "output_type": "stream",
     "text": [
      "ERROR:root:error test\n",
      "ERROR:root:error test test2 \n"
     ]
    }
   ],
   "source": [
    "import logging\n",
    "\n",
    "logging.error('error {}'.format('test'))\n",
    "logging.error('error %s %s ' %('test', 'test2'))\n"
   ]
  },
  {
   "cell_type": "code",
   "execution_count": 35,
   "metadata": {},
   "outputs": [
    {
     "name": "stderr",
     "output_type": "stream",
     "text": [
      "ERROR:root:error test\n",
      "ERROR:root:error test test2 \n"
     ]
    }
   ],
   "source": [
    "logging.basicConfig(filename = 'test.log', level = logging.INFO)  #File 書き込む→？？？？\n",
    "\n",
    "logging.error('error {}'.format('test'))\n",
    "logging.error('error %s %s ' %('test', 'test2'))"
   ]
  },
  {
   "cell_type": "code",
   "execution_count": null,
   "metadata": {
    "collapsed": true
   },
   "outputs": [],
   "source": []
  },
  {
   "cell_type": "code",
   "execution_count": null,
   "metadata": {
    "collapsed": true
   },
   "outputs": [],
   "source": []
  },
  {
   "cell_type": "code",
   "execution_count": null,
   "metadata": {
    "collapsed": true
   },
   "outputs": [],
   "source": []
  }
 ],
 "metadata": {
  "kernelspec": {
   "display_name": "Python 3",
   "language": "python",
   "name": "python3"
  },
  "language_info": {
   "codemirror_mode": {
    "name": "ipython",
    "version": 3
   },
   "file_extension": ".py",
   "mimetype": "text/x-python",
   "name": "python",
   "nbconvert_exporter": "python",
   "pygments_lexer": "ipython3",
   "version": "3.6.3"
  }
 },
 "nbformat": 4,
 "nbformat_minor": 2
}
