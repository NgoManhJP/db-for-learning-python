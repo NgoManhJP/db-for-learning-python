{
 "cells": [
  {
   "cell_type": "code",
   "execution_count": 2,
   "metadata": {
    "collapsed": true
   },
   "outputs": [],
   "source": [
    "s = \"\"\"\n",
    "AAA\n",
    "BBB\n",
    "CCC\n",
    "DDD\n",
    "EEE\n",
    "\"\"\"\n",
    "# Dòng đầu tiên chỉ có ký tự xuống dòng \\n\n",
    "with open('test2.txt','w') as f:\n",
    "    f.write(s)"
   ]
  },
  {
   "cell_type": "code",
   "execution_count": 4,
   "metadata": {},
   "outputs": [
    {
     "name": "stdout",
     "output_type": "stream",
     "text": [
      "\n",
      "AAA\n",
      "BBB\n",
      "CCC\n",
      "DDD\n",
      "EEE\n",
      "\n"
     ]
    }
   ],
   "source": [
    "with open('test2.txt','r') as f:\n",
    "    print(f.read())"
   ]
  },
  {
   "cell_type": "code",
   "execution_count": 6,
   "metadata": {},
   "outputs": [
    {
     "name": "stdout",
     "output_type": "stream",
     "text": [
      "\n",
      "\n",
      "AAA\n",
      "\n",
      "BBB\n",
      "\n",
      "CCC\n",
      "\n",
      "DDD\n",
      "\n",
      "EEE\n",
      "\n",
      "\n"
     ]
    }
   ],
   "source": [
    "with open('test2.txt','r') as f:\n",
    "    while True:\n",
    "        line = f.readline() #1行ずつ読み取る\n",
    "        print(line) #print()は自動的に開業コードを入れる\n",
    "        if not line: #読み終わったら\n",
    "            break"
   ]
  },
  {
   "cell_type": "code",
   "execution_count": 8,
   "metadata": {},
   "outputs": [
    {
     "name": "stdout",
     "output_type": "stream",
     "text": [
      "\n",
      "AAA\n",
      "BBB\n",
      "CCC\n",
      "DDD\n",
      "EEE\n"
     ]
    }
   ],
   "source": [
    "with open('test2.txt','r') as f:\n",
    "    while True:\n",
    "        line = f.readline() #1行ずつ読み取る\n",
    "        print(line, end='') #改行コードをなしにする\n",
    "        if not line: #読み終わったら\n",
    "            break"
   ]
  },
  {
   "cell_type": "code",
   "execution_count": 9,
   "metadata": {
    "collapsed": true
   },
   "outputs": [],
   "source": [
    "# chunk "
   ]
  },
  {
   "cell_type": "code",
   "execution_count": 12,
   "metadata": {},
   "outputs": [
    {
     "name": "stdout",
     "output_type": "stream",
     "text": [
      "\n",
      "A\n",
      "AA\n",
      "\n",
      "B\n",
      "BB\n",
      "\n",
      "C\n",
      "CC\n",
      "\n",
      "D\n",
      "DD\n",
      "\n",
      "E\n",
      "EE\n",
      "\n",
      "\n",
      "\n"
     ]
    }
   ],
   "source": [
    "with open('test2.txt','r') as f:\n",
    "    while True:\n",
    "        chunk = 2  #2文字ずつ\n",
    "        line = f.read(chunk) #chunk文字ずつ読み取る\n",
    "        print(line) \n",
    "        if not line: #読み終わったら\n",
    "            break"
   ]
  },
  {
   "cell_type": "markdown",
   "metadata": {},
   "source": [
    "# seekを使って移動する"
   ]
  },
  {
   "cell_type": "code",
   "execution_count": 14,
   "metadata": {},
   "outputs": [
    {
     "name": "stdout",
     "output_type": "stream",
     "text": [
      "0\n"
     ]
    }
   ],
   "source": [
    "with open('test2.txt','r') as f:\n",
    "    print(f.tell()) #位置を表す"
   ]
  },
  {
   "cell_type": "code",
   "execution_count": 26,
   "metadata": {},
   "outputs": [
    {
     "name": "stdout",
     "output_type": "stream",
     "text": [
      "0\n",
      "\n",
      "\n",
      "\n",
      "BB\n",
      "CC\n"
     ]
    }
   ],
   "source": [
    "with open('test2.txt','r') as f:\n",
    "    print(f.tell()) #位置を表す\n",
    "    print(f.read(1))\n",
    "    f.seek(5)\n",
    "    print(f.read(3))  #3文字：BB\\n\n",
    "    f.seek(13)\n",
    "    print(f.read(2))"
   ]
  },
  {
   "cell_type": "markdown",
   "metadata": {},
   "source": [
    "# ファイル書き込み読み込みモード"
   ]
  },
  {
   "cell_type": "code",
   "execution_count": 27,
   "metadata": {
    "collapsed": true
   },
   "outputs": [],
   "source": [
    "s = \"\"\"\\\n",
    "AAA\n",
    "BBB\n",
    "CCC\n",
    "DDD\n",
    "\"\"\"\n",
    "with open('test3.txt','w') as f:\n",
    "    f.write(s)"
   ]
  },
  {
   "cell_type": "code",
   "execution_count": 28,
   "metadata": {},
   "outputs": [
    {
     "name": "stdout",
     "output_type": "stream",
     "text": [
      "\n"
     ]
    }
   ],
   "source": [
    "with open('test3.txt','w+') as f:\n",
    "    f.write(s)\n",
    "    print(f.read())"
   ]
  },
  {
   "cell_type": "code",
   "execution_count": 30,
   "metadata": {},
   "outputs": [
    {
     "name": "stdout",
     "output_type": "stream",
     "text": [
      "AAA\n",
      "BBB\n",
      "CCC\n",
      "DDD\n",
      "\n"
     ]
    }
   ],
   "source": [
    "with open('test3.txt','w+') as f: #書き込み＋読み込み\n",
    "    f.write(s)\n",
    "    f.seek(0)\n",
    "    print(f.read())"
   ]
  },
  {
   "cell_type": "code",
   "execution_count": null,
   "metadata": {
    "collapsed": true
   },
   "outputs": [],
   "source": []
  }
 ],
 "metadata": {
  "kernelspec": {
   "display_name": "Python 3",
   "language": "python",
   "name": "python3"
  },
  "language_info": {
   "codemirror_mode": {
    "name": "ipython",
    "version": 3
   },
   "file_extension": ".py",
   "mimetype": "text/x-python",
   "name": "python",
   "nbconvert_exporter": "python",
   "pygments_lexer": "ipython3",
   "version": "3.6.3"
  }
 },
 "nbformat": 4,
 "nbformat_minor": 2
}
