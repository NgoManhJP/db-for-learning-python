{
 "cells": [
  {
   "cell_type": "code",
   "execution_count": 3,
   "metadata": {},
   "outputs": [
    {
     "name": "stdout",
     "output_type": "stream",
     "text": [
      "Hi Mike.\n",
      "\n",
      "How are you?\n",
      "\n",
      "Have a good day\n",
      "\n"
     ]
    }
   ],
   "source": [
    "import string\n",
    "\n",
    "s = \"\"\"\\\n",
    "Hi $name.\n",
    "\n",
    "$contents\n",
    "\n",
    "Have a good day\n",
    "\"\"\"\n",
    "t = string.Template(s)\n",
    "contents = t.substitute(name='Mike', contents='How are you?')\n",
    "print(contents)\n"
   ]
  },
  {
   "cell_type": "code",
   "execution_count": 4,
   "metadata": {
    "collapsed": true
   },
   "outputs": [],
   "source": [
    "s = \"\"\"\\\n",
    "Hi $name.\n",
    "\n",
    "$contents\n",
    "\n",
    "Have a good day\n",
    "\"\"\"\n",
    "with open('email_template.txt','w') as f:\n",
    "    f.write(s)"
   ]
  },
  {
   "cell_type": "code",
   "execution_count": 5,
   "metadata": {},
   "outputs": [
    {
     "name": "stdout",
     "output_type": "stream",
     "text": [
      "Hi Mike.\n",
      "\n",
      "How are you?\n",
      "\n",
      "Have a good day\n",
      "\n"
     ]
    }
   ],
   "source": [
    "with open('email_template.txt','r') as f:\n",
    "    t = string.Template(f.read())  #with 内の変数(t)はwithの外側も使える\n",
    "contents = t.substitute(name='Mike', contents='How are you?')\n",
    "print(contents)"
   ]
  },
  {
   "cell_type": "code",
   "execution_count": 6,
   "metadata": {
    "collapsed": true
   },
   "outputs": [],
   "source": [
    "# templateを使うとtemplateとしたファイルを壊さないように"
   ]
  },
  {
   "cell_type": "code",
   "execution_count": null,
   "metadata": {
    "collapsed": true
   },
   "outputs": [],
   "source": []
  }
 ],
 "metadata": {
  "kernelspec": {
   "display_name": "Python 3",
   "language": "python",
   "name": "python3"
  },
  "language_info": {
   "codemirror_mode": {
    "name": "ipython",
    "version": 3
   },
   "file_extension": ".py",
   "mimetype": "text/x-python",
   "name": "python",
   "nbconvert_exporter": "python",
   "pygments_lexer": "ipython3",
   "version": "3.6.3"
  }
 },
 "nbformat": 4,
 "nbformat_minor": 2
}
