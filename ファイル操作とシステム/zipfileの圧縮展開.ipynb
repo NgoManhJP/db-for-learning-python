{
 "cells": [
  {
   "cell_type": "code",
   "execution_count": 1,
   "metadata": {
    "collapsed": true
   },
   "outputs": [],
   "source": [
    "import zipfile"
   ]
  },
  {
   "cell_type": "code",
   "execution_count": 2,
   "metadata": {
    "collapsed": true
   },
   "outputs": [],
   "source": [
    "with zipfile.ZipFile('test.zip','w') as z:\n",
    "    #指定したフォルダ、ファイルしか圧縮できません。\n",
    "    z.write('test_dir')\n",
    "    z.write('test_dir/test.txt')"
   ]
  },
  {
   "cell_type": "code",
   "execution_count": 3,
   "metadata": {},
   "outputs": [
    {
     "name": "stdout",
     "output_type": "stream",
     "text": [
      "test_dir\\\n",
      "test_dir\\sub_dir\n",
      "test_dir\\sub_dir\\subsbu_dir\n",
      "test_dir\\sub_dir\\subsbu_dir\\subsubtest.txt\n",
      "test_dir\\sub_dir\\test.txt\n",
      "test_dir\\test.txt\n"
     ]
    }
   ],
   "source": [
    "import glob\n",
    "with zipfile.ZipFile('test.zip','w') as z:\n",
    "    for f in glob.glob('test_dir/**', recursive=True): #ファイル取得\n",
    "        #*: test_dir下のファイルを見る\n",
    "        #**: どんどんサブフォルダの下も見に行く\n",
    "        print(f)\n",
    "        z.write(f)      #圧縮する\n",
    "    "
   ]
  },
  {
   "cell_type": "code",
   "execution_count": 4,
   "metadata": {
    "collapsed": true
   },
   "outputs": [],
   "source": [
    "#読み込み - 展開\n",
    "with zipfile.ZipFile('test.zip', 'r') as z:\n",
    "    z.extractall('zzz2')"
   ]
  },
  {
   "cell_type": "code",
   "execution_count": 5,
   "metadata": {},
   "outputs": [
    {
     "name": "stdout",
     "output_type": "stream",
     "text": [
      "b'test'\n"
     ]
    }
   ],
   "source": [
    "#　無展開 - ファイル読み込み\n",
    "with zipfile.ZipFile('test.zip', 'r') as z:\n",
    "    with z.open('test_dir/test.txt') as f:\n",
    "        print(f.read())"
   ]
  },
  {
   "cell_type": "code",
   "execution_count": null,
   "metadata": {
    "collapsed": true
   },
   "outputs": [],
   "source": []
  }
 ],
 "metadata": {
  "kernelspec": {
   "display_name": "Python 3",
   "language": "python",
   "name": "python3"
  },
  "language_info": {
   "codemirror_mode": {
    "name": "ipython",
    "version": 3
   },
   "file_extension": ".py",
   "mimetype": "text/x-python",
   "name": "python",
   "nbconvert_exporter": "python",
   "pygments_lexer": "ipython3",
   "version": "3.6.3"
  }
 },
 "nbformat": 4,
 "nbformat_minor": 2
}
